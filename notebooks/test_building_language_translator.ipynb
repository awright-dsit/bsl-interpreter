{
 "cells": [
  {
   "cell_type": "code",
   "execution_count": 213,
   "metadata": {},
   "outputs": [],
   "source": [
    "from tkinter import *\n",
    "from tkinter import ttk\n",
    "from googletrans import Translator, LANGUAGES\n",
    "from google.cloud import translate\n",
    "import numpy as np"
   ]
  },
  {
   "cell_type": "markdown",
   "metadata": {},
   "source": [
    "## Get list of available languages"
   ]
  },
  {
   "cell_type": "code",
   "execution_count": 242,
   "metadata": {},
   "outputs": [
    {
     "name": "stdout",
     "output_type": "stream",
     "text": [
      "[{'language_code': 'af', 'display_name': 'Afrikaans'}, {'language_code': 'sq', 'display_name': 'Albanian'}, {'language_code': 'am', 'display_name': 'Amharic'}, {'language_code': 'ar', 'display_name': 'Arabic'}, {'language_code': 'hy', 'display_name': 'Armenian'}]\n"
     ]
    }
   ],
   "source": [
    "from google.cloud import translate\n",
    "\n",
    "def list_supported_languages(proj_id = \"electric-node-431913-b4\"):\n",
    "    # Initialize the Translation client\n",
    "    client = translate.TranslationServiceClient()\n",
    "\n",
    "    # Set the parent location (this should be a valid GCP location like 'global')\n",
    "    parent = f\"projects/{proj_id}/locations/global\"\n",
    "\n",
    "    # Retrieve supported languages\n",
    "    response = client.get_supported_languages(display_language_code=\"en\",parent=parent)\n",
    "\n",
    "    # List to hold the language_code and display_name pairs\n",
    "    languages_list = []\n",
    "\n",
    "    # Extract and store the language_code and display_name in the list\n",
    "    for language in response.languages:\n",
    "        languages_list.append({\n",
    "            'language_code': language.language_code,\n",
    "            'display_name': language.display_name\n",
    "        })\n",
    "\n",
    "    return languages_list\n"
   ]
  },
  {
   "cell_type": "code",
   "execution_count": 243,
   "metadata": {},
   "outputs": [
    {
     "name": "stdout",
     "output_type": "stream",
     "text": [
      "[{'language_code': 'af', 'display_name': 'Afrikaans'}, {'language_code': 'sq', 'display_name': 'Albanian'}, {'language_code': 'am', 'display_name': 'Amharic'}, {'language_code': 'ar', 'display_name': 'Arabic'}, {'language_code': 'hy', 'display_name': 'Armenian'}]\n"
     ]
    }
   ],
   "source": [
    "# Call the function and store the output in a variable\n",
    "supported_languages = list_supported_languages()\n",
    "\n",
    "# Example: print the first few items in the list\n",
    "print(supported_languages[:5])"
   ]
  },
  {
   "cell_type": "markdown",
   "metadata": {},
   "source": [
    "## Get language code from language list"
   ]
  },
  {
   "cell_type": "code",
   "execution_count": 247,
   "metadata": {},
   "outputs": [],
   "source": [
    "def get_lang_code_by_name(name, language_list):\n",
    "    code = [item['language_code'] for item in language_list if item['display_name']== name]\n",
    "    return code[0] if code else None"
   ]
  },
  {
   "cell_type": "code",
   "execution_count": 248,
   "metadata": {},
   "outputs": [
    {
     "data": {
      "text/plain": [
       "'af'"
      ]
     },
     "execution_count": 248,
     "metadata": {},
     "output_type": "execute_result"
    }
   ],
   "source": [
    "# test function\n",
    "get_lang_code_by_name(\"Afrikaans\", supported_languages)"
   ]
  },
  {
   "cell_type": "markdown",
   "metadata": {},
   "source": [
    "## Write Translation Function"
   ]
  },
  {
   "cell_type": "code",
   "execution_count": 215,
   "metadata": {},
   "outputs": [],
   "source": [
    "def translate_text(text = \"Hola mundo\",\n",
    "                   proj_id = \"electric-node-431913-b4\",\n",
    "                   src_lang_code = \"es\",\n",
    "                   target_lang_code = \"en-US\"):\n",
    "    \n",
    "    client = translate.TranslationServiceClient()\n",
    "    location = \"global\"\n",
    "    parent = f\"projects/{proj_id}/locations/{location}\"\n",
    "\n",
    "    response = client.translate_text(\n",
    "        request={\n",
    "            \"parent\": parent,\n",
    "            \"contents\": [text],\n",
    "            \"mime_type\": \"text/plain\",\n",
    "            \"source_language_code\": src_lang_code,\n",
    "            \"target_language_code\": target_lang_code\n",
    "        }\n",
    "    )\n",
    "\n",
    "    for translation in response.translations:\n",
    "        return(translation.translated_text)"
   ]
  },
  {
   "cell_type": "code",
   "execution_count": 216,
   "metadata": {},
   "outputs": [
    {
     "data": {
      "text/plain": [
       "'Hello World'"
      ]
     },
     "execution_count": 216,
     "metadata": {},
     "output_type": "execute_result"
    }
   ],
   "source": [
    "translate_text()"
   ]
  },
  {
   "cell_type": "markdown",
   "metadata": {},
   "source": [
    "## Write function to translate in app"
   ]
  },
  {
   "cell_type": "code",
   "execution_count": 259,
   "metadata": {},
   "outputs": [],
   "source": [
    "def Transl8():\n",
    "    try:\n",
    "        translation = translate_text(text=Input_text.get(),\n",
    "                                     src_lang_code=get_lang_code_by_name(src_lang.get(), supported_languages),\n",
    "                                     target_lang_code=get_lang_code_by_name(trg_lang.get(), supported_languages))\n",
    "        Output_text.delete(1.0, END)\n",
    "        Output_text.insert(END, translation)\n",
    "    except Exception as e:\n",
    "        print(f\"Translation error: {e}\")\n"
   ]
  },
  {
   "cell_type": "markdown",
   "metadata": {},
   "source": [
    "## Set up Tkinter Window"
   ]
  },
  {
   "cell_type": "code",
   "execution_count": 260,
   "metadata": {},
   "outputs": [
    {
     "data": {
      "text/plain": [
       "''"
      ]
     },
     "execution_count": 260,
     "metadata": {},
     "output_type": "execute_result"
    }
   ],
   "source": [
    "root = Tk()\n",
    "root.geometry('1100x320')\n",
    "root.resizable(0,0)\n",
    "root['bg'] = '#002E6D'\n",
    "root.title('Real-time translator')"
   ]
  },
  {
   "cell_type": "markdown",
   "metadata": {},
   "source": [
    "## Create a GUI for app"
   ]
  },
  {
   "cell_type": "code",
   "execution_count": 261,
   "metadata": {},
   "outputs": [],
   "source": [
    "Label(root, text=\"Language Translator\", font=\"Arial 20 bold\").pack()\n",
    "\n",
    "Label(root, text=\"Enter Text\", font='arial 13 bold', bg='white smoke').place(x=165, y=90)\n",
    "\n",
    "Input_text = Entry(root, width=60)\n",
    "Input_text.place(x=30, y=130)\n",
    "\n",
    "Label(root, text=\"Output\", font='arial 13 bold', bg='white smoke').place(x=780, y=90)\n",
    "Output_text = Text(root, font='arial 10', height=5, wrap=WORD, padx=5, pady=5, width=50)\n",
    "Output_text.place(x=600, y=130)\n",
    "\n",
    "language = [item['display_name'] for item in supported_languages]\n",
    "src_lang = ttk.Combobox(root, values=language, width=22)\n",
    "src_lang.place(x=130, y=180)\n",
    "src_lang.set('Choose Language')\n",
    "\n",
    "trg_lang = ttk.Combobox(root, values=language, width=22)\n",
    "trg_lang.place(x=600, y=180)\n",
    "trg_lang.set('Choose Language')"
   ]
  },
  {
   "cell_type": "markdown",
   "metadata": {},
   "source": [
    "## Create Button to Trigger Translation"
   ]
  },
  {
   "cell_type": "code",
   "execution_count": 262,
   "metadata": {},
   "outputs": [],
   "source": [
    "trans_btn = Button(root, text='Translate', font='arial 12 bold', pady=5,\n",
    "                   command=Transl8, bg=\"#00F8F8\", activebackground=\"#9122A9\")\n",
    "trans_btn.place(x=445, y=180)"
   ]
  },
  {
   "cell_type": "markdown",
   "metadata": {},
   "source": [
    "## Run Tkinter main loop"
   ]
  },
  {
   "cell_type": "code",
   "execution_count": 263,
   "metadata": {},
   "outputs": [],
   "source": [
    "root.mainloop()"
   ]
  }
 ],
 "metadata": {
  "kernelspec": {
   "display_name": "Python 3",
   "language": "python",
   "name": "python3"
  },
  "language_info": {
   "codemirror_mode": {
    "name": "ipython",
    "version": 3
   },
   "file_extension": ".py",
   "mimetype": "text/x-python",
   "name": "python",
   "nbconvert_exporter": "python",
   "pygments_lexer": "ipython3",
   "version": "3.12.2"
  }
 },
 "nbformat": 4,
 "nbformat_minor": 2
}
