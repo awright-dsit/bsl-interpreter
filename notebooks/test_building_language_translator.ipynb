{
 "cells": [
  {
   "cell_type": "code",
   "execution_count": 9,
   "metadata": {},
   "outputs": [],
   "source": [
    "from tkinter import *\n",
    "from tkinter import ttk\n",
    "from googletrans import Translator, LANGUAGES"
   ]
  },
  {
   "cell_type": "markdown",
   "metadata": {},
   "source": [
    "## Set up Tkinter Window"
   ]
  },
  {
   "cell_type": "code",
   "execution_count": 11,
   "metadata": {},
   "outputs": [
    {
     "data": {
      "text/plain": [
       "''"
      ]
     },
     "execution_count": 11,
     "metadata": {},
     "output_type": "execute_result"
    }
   ],
   "source": [
    "root = Tk()\n",
    "root.geometry('1100x320')\n",
    "root.resizable(0,0)\n",
    "root['bg'] = '#002E6D'\n",
    "root.title('Real-time translator')"
   ]
  },
  {
   "cell_type": "markdown",
   "metadata": {},
   "source": [
    "## Create a GUI for app"
   ]
  },
  {
   "cell_type": "code",
   "execution_count": 12,
   "metadata": {},
   "outputs": [],
   "source": [
    "Label(root, text=\"Language Translator\", font=\"Arial 20 bold\").pack()\n",
    "\n",
    "Label(root, text=\"Enter Text\", font='arial 13 bold', bg='white smoke').place(x=165, y=90)\n",
    "\n",
    "Input_text = Entry(root, width=60)\n",
    "Input_text.place(x=30, y=130)\n",
    "\n",
    "Label(root, text=\"Output\", font='arial 13 bold', bg='white smoke').place(x=780, y=90)\n",
    "Output_text = Text(root, font='arial 10', height=5, wrap=WORD, padx=5, pady=5, width=50)\n",
    "Output_text.place(x=600, y=130)\n",
    "\n",
    "language = list(LANGUAGES.values())\n",
    "dest_lang = ttk.Combobox(root, values=language, width=22)\n",
    "dest_lang.set('Choose Language')"
   ]
  },
  {
   "cell_type": "markdown",
   "metadata": {},
   "source": [
    "## Write Translation Function"
   ]
  },
  {
   "cell_type": "code",
   "execution_count": 13,
   "metadata": {},
   "outputs": [],
   "source": [
    "def Translate():\n",
    "    try: \n",
    "        translator = Translator(to_lang=dest_lang.get())\n",
    "        translation = translator.translate(Input_text.get())\n",
    "        Output_text.delete(1.0, END)\n",
    "        Output_text.insert(END, translation)\n",
    "    except Exception as e:\n",
    "        print(f\"Translation error: {e}\")"
   ]
  },
  {
   "cell_type": "markdown",
   "metadata": {},
   "source": [
    "## Create Button to Trigger Translation"
   ]
  },
  {
   "cell_type": "code",
   "execution_count": 14,
   "metadata": {},
   "outputs": [],
   "source": [
    "trans_btn = Button(root, text='Translate', font='arial 12 bold', pady=5,\n",
    "                   command=Translate, bg=\"#00F8F8\", activebackground=\"#9122A9\")\n",
    "trans_btn.place(x=445, y=180)"
   ]
  },
  {
   "cell_type": "markdown",
   "metadata": {},
   "source": [
    "## Run Tkinter main loop"
   ]
  },
  {
   "cell_type": "code",
   "execution_count": 15,
   "metadata": {},
   "outputs": [
    {
     "name": "stdout",
     "output_type": "stream",
     "text": [
      "Translation error: Translator.__init__() got an unexpected keyword argument 'to_lang'\n",
      "Translation error: Translator.__init__() got an unexpected keyword argument 'to_lang'\n"
     ]
    }
   ],
   "source": [
    "root.mainloop()"
   ]
  }
 ],
 "metadata": {
  "kernelspec": {
   "display_name": "Python 3",
   "language": "python",
   "name": "python3"
  },
  "language_info": {
   "codemirror_mode": {
    "name": "ipython",
    "version": 3
   },
   "file_extension": ".py",
   "mimetype": "text/x-python",
   "name": "python",
   "nbconvert_exporter": "python",
   "pygments_lexer": "ipython3",
   "version": "3.12.2"
  }
 },
 "nbformat": 4,
 "nbformat_minor": 2
}
